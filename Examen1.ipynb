{
 "cells": [
  {
   "cell_type": "markdown",
   "metadata": {},
   "source": [
    "# Pregunta 1"
   ]
  },
  {
   "cell_type": "markdown",
   "metadata": {},
   "source": [
    "Resuelve el siguiente problema (cualquier método):\n",
    "   \\begin{equation*}\n",
    "   \\begin{aligned}\n",
    "   \\text{Maximizar} \\quad & x+2y\\\\\n",
    "   \\text{sujeto a} \\quad &\n",
    "     \\begin{aligned}\n",
    "      x &\\geq  0\\\\\n",
    "      y &\\geq 0\\\\\n",
    "      2x+y &\\leq 2\n",
    "     \\end{aligned}\n",
    "   \\end{aligned}\n",
    "   \\end{equation*}"
   ]
  },
  {
   "cell_type": "code",
   "execution_count": 2,
   "metadata": {},
   "outputs": [],
   "source": [
    "from pulp import *\n",
    "\n",
    "x = LpVariable(\"x\", 0)\n",
    "y = LpVariable(\"y\", 0)"
   ]
  },
  {
   "cell_type": "code",
   "execution_count": 3,
   "metadata": {},
   "outputs": [],
   "source": [
    "prob = LpProblem(\"Pregunta 1\", LpMaximize)\n",
    "prob += 2*x + y <= 2"
   ]
  },
  {
   "cell_type": "code",
   "execution_count": 4,
   "metadata": {},
   "outputs": [],
   "source": [
    "prob+= x + 2*y"
   ]
  },
  {
   "cell_type": "code",
   "execution_count": 5,
   "metadata": {},
   "outputs": [
    {
     "data": {
      "text/plain": [
       "Pregunta 1:\n",
       "MAXIMIZE\n",
       "1*x + 2*y + 0\n",
       "SUBJECT TO\n",
       "_C1: 2 x + y <= 2\n",
       "\n",
       "VARIABLES\n",
       "x Continuous\n",
       "y Continuous"
      ]
     },
     "execution_count": 5,
     "metadata": {},
     "output_type": "execute_result"
    }
   ],
   "source": [
    "prob"
   ]
  },
  {
   "cell_type": "code",
   "execution_count": 13,
   "metadata": {},
   "outputs": [
    {
     "data": {
      "text/plain": [
       "(0.0, 2.0, 4.0)"
      ]
     },
     "execution_count": 13,
     "metadata": {},
     "output_type": "execute_result"
    }
   ],
   "source": [
    "status = prob.solve()\n",
    "\n",
    "value(x), value(y),value(prob.objective)"
   ]
  },
  {
   "cell_type": "code",
   "execution_count": null,
   "metadata": {},
   "outputs": [],
   "source": [
    "import numpy as np\n",
    "import matplotlib.pyplot as ptl\n",
    "%matplotlib inline\n",
    "\n",
    "x= np.linspace(0, 1, 200)\n",
    "plt.plot(x, y, label=r'$2x+y\\leq2)"
   ]
  },
  {
   "cell_type": "markdown",
   "metadata": {},
   "source": [
    "# Pregunta 2\n",
    "\n",
    "Resuelve el siguiente problema (cualquier método):\n",
    "   \\begin{equation*}\n",
    "    \\begin{aligned}\n",
    "   \\text{Maximizar} \\quad & x_{1}+2x_{2}\\\\\n",
    "   \\text{sujeto a} \\quad &\n",
    "     \\begin{aligned}\n",
    "      3x_{1}+4x_{2} &\\leq 12\\\\\n",
    "      x_{1}-x_{2} &\\leq 2\\\\\n",
    "      -2x_{1}+x_{2} &\\leq 2\\\\\n",
    "       x_{1} &\\geq 0\\\\\n",
    "       x_{2} &\\geq 0\n",
    "     \\end{aligned}\n",
    "   \\end{aligned}\n",
    "   \\end{equation*}"
   ]
  },
  {
   "cell_type": "code",
   "execution_count": 22,
   "metadata": {},
   "outputs": [],
   "source": [
    "from pulp import *\n",
    "\n",
    "x1 = LpVariable(\"x1\", 0)\n",
    "x2 = LpVariable(\"x2\", 0)"
   ]
  },
  {
   "cell_type": "code",
   "execution_count": 23,
   "metadata": {},
   "outputs": [],
   "source": [
    "prob = LpProblem(\"Pregunta 2\", LpMaximize)\n",
    "prob += 3*x1 + 4*x2  <= 12\n",
    "prob += x1 - x2  <= 2\n",
    "prob += -2*x1 + x2  <= 2"
   ]
  },
  {
   "cell_type": "code",
   "execution_count": 25,
   "metadata": {},
   "outputs": [],
   "source": [
    "prob+= x1 + 2*x2"
   ]
  },
  {
   "cell_type": "code",
   "execution_count": 26,
   "metadata": {},
   "outputs": [
    {
     "data": {
      "text/plain": [
       "Pregunta 2:\n",
       "MAXIMIZE\n",
       "1*x1 + 2*x2 + 0\n",
       "SUBJECT TO\n",
       "_C1: 3 x1 + 4 x2 <= 12\n",
       "\n",
       "_C2: x1 - x2 <= 2\n",
       "\n",
       "_C3: - 2 x1 + x2 <= 2\n",
       "\n",
       "VARIABLES\n",
       "x1 Continuous\n",
       "x2 Continuous"
      ]
     },
     "execution_count": 26,
     "metadata": {},
     "output_type": "execute_result"
    }
   ],
   "source": [
    "prob"
   ]
  },
  {
   "cell_type": "code",
   "execution_count": 28,
   "metadata": {},
   "outputs": [
    {
     "data": {
      "text/plain": [
       "(0.36363636, 2.7272727, 5.81818176)"
      ]
     },
     "execution_count": 28,
     "metadata": {},
     "output_type": "execute_result"
    }
   ],
   "source": [
    "status = prob.solve()\n",
    "\n",
    "value(x1), value(x2),value(prob.objective)"
   ]
  },
  {
   "cell_type": "markdown",
   "metadata": {},
   "source": [
    "# Pregunta 3\n",
    "Resuelve el siguiente problema (cualquier método):\n",
    "   \\begin{equation*}\n",
    "   \\begin{aligned}\n",
    "   \\text{Maximizar} \\quad & 4x_{1}+x_{2}+3x_{3}\\\\\n",
    "   \\text{sujeto a} \\quad &\n",
    "     \\begin{aligned}\n",
    "      x_{1} & \\leq 3\\\\\n",
    "      x_{2} &\\leq 5\\\\\n",
    "      x_{3} &\\leq 2\\\\\n",
    "      x_{1}+x_{2}+2x_{3} &\\leq 10\\\\\n",
    "      x_{1},x_{2},x_{3} &\\geq 0\n",
    "     \\end{aligned}\n",
    "   \\end{aligned}\n",
    "   \\end{equation*}\n"
   ]
  },
  {
   "cell_type": "code",
   "execution_count": 36,
   "metadata": {},
   "outputs": [],
   "source": [
    "from pulp import *\n",
    "\n",
    "x = LpVariable(\"x\", 0)\n",
    "y = LpVariable(\"y\", 0)\n",
    "z = LpVariable(\"z\", 0)"
   ]
  },
  {
   "cell_type": "code",
   "execution_count": 37,
   "metadata": {},
   "outputs": [],
   "source": [
    "prob = LpProblem(\"Pregunta 3\", LpMaximize)\n",
    "prob += x <= 3\n",
    "prob += y <= 5\n",
    "prob += z <= 2\n",
    "prob += x + y + 2*z  <= 10"
   ]
  },
  {
   "cell_type": "code",
   "execution_count": 39,
   "metadata": {},
   "outputs": [],
   "source": [
    "prob+= 4*x +y+ 3*z"
   ]
  },
  {
   "cell_type": "code",
   "execution_count": 40,
   "metadata": {},
   "outputs": [
    {
     "data": {
      "text/plain": [
       "Pregunta 3:\n",
       "MAXIMIZE\n",
       "4*x + 1*y + 3*z + 0\n",
       "SUBJECT TO\n",
       "_C1: x <= 3\n",
       "\n",
       "_C2: y <= 5\n",
       "\n",
       "_C3: z <= 2\n",
       "\n",
       "_C4: x + y + 2 z <= 10\n",
       "\n",
       "VARIABLES\n",
       "x Continuous\n",
       "y Continuous\n",
       "z Continuous"
      ]
     },
     "execution_count": 40,
     "metadata": {},
     "output_type": "execute_result"
    }
   ],
   "source": [
    "prob"
   ]
  },
  {
   "cell_type": "code",
   "execution_count": 41,
   "metadata": {},
   "outputs": [
    {
     "data": {
      "text/plain": [
       "(3.0, 3.0, 2.0, 21.0)"
      ]
     },
     "execution_count": 41,
     "metadata": {},
     "output_type": "execute_result"
    }
   ],
   "source": [
    "status = prob.solve()\n",
    "\n",
    "value(x), value(y), value(z),value(prob.objective)"
   ]
  },
  {
   "cell_type": "markdown",
   "metadata": {},
   "source": [
    "# Pregunta4\n",
    "Un gerente está planeando cómo distribuir la producción de tres\n",
    "   productos entre dos máquinas. Para ser manufacturado cada producto\n",
    "   requiere cierto tiempo (en horas) en cada una de las máquinas.\n",
    "\n",
    "   El tiempo requerido está resumido en la siguiente tabla:\n",
    "   \n",
    "| PRODUCTO\\ MÁQUINA  |      MÁQUINA1     |  MÁQUINA2 |\n",
    "|-------------------:|------------------:|----------:|\n",
    "| A                  |  1                | 1         |\n",
    "| B                  |  2                | 1         |\n",
    "| C                  |  2                | 2         |\n",
    "\n",
    " La máquina 1 está disponible 40 horas a la semana y la 2 está\n",
    "   disponible 34 horas a la semana.\n",
    "\n",
    "   Si la utilidad obtenida al vender los productos A, B y C es de 2, 3\n",
    "   y 5 pesos por unidad, respectivamente, ¿cuál debe ser la producción\n",
    "   semanal que maximiza la utilidad? ¿Cuál es la utilidad máxima?\n",
    "\n"
   ]
  },
  {
   "cell_type": "code",
   "execution_count": null,
   "metadata": {},
   "outputs": [],
   "source": []
  },
  {
   "cell_type": "code",
   "execution_count": null,
   "metadata": {},
   "outputs": [],
   "source": []
  }
 ],
 "metadata": {
  "kernelspec": {
   "display_name": "Python 3",
   "language": "python",
   "name": "python3"
  },
  "language_info": {
   "codemirror_mode": {
    "name": "ipython",
    "version": 3
   },
   "file_extension": ".py",
   "mimetype": "text/x-python",
   "name": "python",
   "nbconvert_exporter": "python",
   "pygments_lexer": "ipython3",
   "version": "3.7.2"
  }
 },
 "nbformat": 4,
 "nbformat_minor": 2
}
